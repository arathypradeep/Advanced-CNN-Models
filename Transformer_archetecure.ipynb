{
  "nbformat": 4,
  "nbformat_minor": 0,
  "metadata": {
    "colab": {
      "provenance": []
    },
    "kernelspec": {
      "name": "python3",
      "display_name": "Python 3"
    },
    "language_info": {
      "name": "python"
    }
  },
  "cells": [
    {
      "cell_type": "code",
      "execution_count": null,
      "metadata": {
        "id": "IU4Nyf8dtSvf"
      },
      "outputs": [],
      "source": [
        "import numpy as np\n",
        "import pandas as pd\n",
        "from sklearn.preprocessing import MinMaxScaler\n",
        "from tensorflow.keras.models import Model\n",
        "from tensorflow.keras.layers import Input, Dense, Dropout,LayerNormalization, MultiHeadAttention, Add\n",
        "import tensorflow as tf\n",
        "import matplotlib.pyplot as plt"
      ]
    },
    {
      "cell_type": "code",
      "source": [
        "from google.colab import drive\n",
        "drive.mount('/content/drive')"
      ],
      "metadata": {
        "colab": {
          "base_uri": "https://localhost:8080/"
        },
        "id": "GVGMq3F25gbP",
        "outputId": "3fb1b75c-435f-4da5-ec95-e6f461436e51"
      },
      "execution_count": null,
      "outputs": [
        {
          "output_type": "stream",
          "name": "stdout",
          "text": [
            "Drive already mounted at /content/drive; to attempt to forcibly remount, call drive.mount(\"/content/drive\", force_remount=True).\n"
          ]
        }
      ]
    },
    {
      "cell_type": "code",
      "source": [
        "# IMPORTING DATASET\n",
        "dataset = pd.read_csv('/content/drive/MyDrive/apple_share_price.csv',usecols=[1,2,3,4])\n",
        "dataset = dataset.reindex(index = dataset.index[::-1])\n",
        "print(dataset)"
      ],
      "metadata": {
        "colab": {
          "base_uri": "https://localhost:8080/"
        },
        "id": "PYjG4Gc0JKfP",
        "outputId": "5ea0cbf0-9751-47d4-b2e2-ba23147449e7"
      },
      "execution_count": null,
      "outputs": [
        {
          "output_type": "stream",
          "name": "stdout",
          "text": [
            "        Open    High     Low   Close\n",
            "1663   46.52   47.18   46.41   47.08\n",
            "1662   47.49   47.50   46.88   47.33\n",
            "1661   47.08   47.76   47.07   47.71\n",
            "1660   47.82   47.89   47.56   47.68\n",
            "1659   47.71   48.05   47.41   48.02\n",
            "...      ...     ...     ...     ...\n",
            "4     157.06  158.92  156.67  158.81\n",
            "3     158.60  161.83  158.27  160.08\n",
            "2     159.26  161.27  159.11  161.06\n",
            "1     159.90  160.00  154.63  155.32\n",
            "0     156.60  158.57  156.07  157.48\n",
            "\n",
            "[1664 rows x 4 columns]\n"
          ]
        }
      ]
    },
    {
      "cell_type": "code",
      "source": [
        "dataset = dataset.astype('float32')\n",
        "\n",
        "# normalize the dataset\n",
        "scaler = MinMaxScaler(feature_range=(0, 1))\n",
        "dataset = scaler.fit_transform(dataset)"
      ],
      "metadata": {
        "id": "alzh4A9nJKiY"
      },
      "execution_count": null,
      "outputs": []
    },
    {
      "cell_type": "code",
      "source": [
        "# split into train and test sets\n",
        "train_size = int(len(dataset) * 0.67)\n",
        "test_size = len(dataset) - train_size\n",
        "train, test = dataset[0:train_size,:],dataset[train_size:len(dataset),:]"
      ],
      "metadata": {
        "id": "I8VNyW-EJKk3"
      },
      "execution_count": null,
      "outputs": []
    },
    {
      "cell_type": "code",
      "source": [
        "# split a multivariate sequence into samples\n",
        "def create_dataset(sequences, n_steps):\n",
        "  X, y = list(), list()\n",
        "  for i in range(len(sequences)):\n",
        "  # find the end of this pattern\n",
        "    end_ix = i + n_steps\n",
        "  # check if we are beyond the dataset\n",
        "    if end_ix > len(sequences)-1:\n",
        "      break\n",
        "  # gather input and output parts of the pattern\n",
        "    seq_x, seq_y = sequences[i:end_ix, :], sequences[end_ix, :]\n",
        "    X.append(seq_x)\n",
        "    y.append(seq_y)\n",
        "  return np.array(X), np.array(y)"
      ],
      "metadata": {
        "id": "1-8m3JCCJKnh"
      },
      "execution_count": null,
      "outputs": []
    },
    {
      "cell_type": "code",
      "source": [
        "# reshape into X=t and Y=t+1\n",
        "look_back = 2\n",
        "trainX, trainY = create_dataset(train, look_back)\n",
        "testX, testY = create_dataset(test, look_back)\n",
        "print(trainX.shape)"
      ],
      "metadata": {
        "colab": {
          "base_uri": "https://localhost:8080/"
        },
        "id": "xHkjIyaEJ8Uq",
        "outputId": "5256e0e6-de96-4a63-f4c3-06d09a42625d"
      },
      "execution_count": null,
      "outputs": [
        {
          "output_type": "stream",
          "name": "stdout",
          "text": [
            "(1112, 2, 4)\n"
          ]
        }
      ]
    },
    {
      "cell_type": "code",
      "source": [],
      "metadata": {
        "id": "5oaKMzuIJ8Xc"
      },
      "execution_count": null,
      "outputs": []
    },
    {
      "cell_type": "code",
      "source": [],
      "metadata": {
        "id": "WIetzw6fJ8cZ"
      },
      "execution_count": null,
      "outputs": []
    },
    {
      "cell_type": "code",
      "source": [
        "def transformer_encoder(inputs, head_size, num_heads, ff_dim, dropout=0):#parameter\n",
        "# Normalization and Attention\n",
        "  x = LayerNormalization(epsilon=1e-6)(inputs)# input ois normalized epsilon applied to avoid division by zero\n",
        "  x = MultiHeadAttention(key_dim=head_size, num_heads=num_heads, dropout=dropout)(x, x)#First layer of encoder (x,x) because here oit is used self attenstion\n",
        "  x = Dropout(dropout)(x)\n",
        "  res = Add()([x, inputs])# add function used here because there is a chance for vanishing gradient. By eliminating all the complex connection it creates an additional  short path to flow the gradient\n",
        "\n",
        "# Feed Forward Network\n",
        "  x = LayerNormalization(epsilon=1e-6)(res)\n",
        "  x = Dense(ff_dim, activation=\"relu\")(x)\n",
        "  x = Dropout(dropout)(x)\n",
        "  x = Dense(inputs.shape[-1])(x)\n",
        "  x = Dropout(dropout)(x)\n",
        "  return Add()([x, res])"
      ],
      "metadata": {
        "id": "LBy--rPS5ggd"
      },
      "execution_count": null,
      "outputs": []
    },
    {
      "cell_type": "code",
      "source": [
        "def transformer_decoder(inputs, encoder_outputs, head_size, num_heads, ff_dim, dropout=0):#parameters\n",
        "# Self Attention\n",
        "  x = LayerNormalization(epsilon=1e-6)(inputs)\n",
        "  x = MultiHeadAttention(key_dim=head_size, num_heads=num_heads, dropout=dropout)(x, x)\n",
        "  x = Dropout(dropout)(x)#tocken generated in decoder\n",
        "  res = Add()([x, inputs])\n",
        "\n",
        "# Cross Attention with Encoder Outputs\n",
        "  x = LayerNormalization(epsilon=1e-6)(res)\n",
        "  x = MultiHeadAttention(key_dim=head_size, num_heads=num_heads, dropout=dropout)(x, encoder_outputs)\n",
        "  x = Dropout(dropout)(x)\n",
        "  res = Add()([x, res])\n",
        "\n",
        "# Feed Forward Network\n",
        "  x = LayerNormalization(epsilon=1e-6)(res)\n",
        "  x = Dense(ff_dim, activation=\"relu\")(x)# relu used to handle non-linearity\n",
        "  x = Dropout(dropout)(x)\n",
        "  x = Dense(inputs.shape[-1])(x)# to equalize the dimension(as input)\n",
        "  x = Dropout(dropout)(x)\n",
        "  return Add()([x, res])# skip connection between 2 layers\n",
        "\n",
        "  # skip connection is used to make more efficient gradient"
      ],
      "metadata": {
        "id": "ULpL7Ws35gn1"
      },
      "execution_count": null,
      "outputs": []
    },
    {
      "cell_type": "code",
      "source": [
        "def build_transformer_model(input_shape, head_size, num_heads, ff_dim, num_encoder_blocks,num_decoder_blocks, dropout=0):#parameters\n",
        "  inputs = Input(shape=input_shape)\n",
        "# Encoder\n",
        "  x = inputs\n",
        "  for _ in range(num_encoder_blocks):\n",
        "    x = transformer_encoder(x, head_size, num_heads, ff_dim, dropout)\n",
        "# Decoder\n",
        "  decoder_inputs = Input(shape=(1, input_shape[1]))\n",
        "  y = decoder_inputs\n",
        "  for _ in range(num_decoder_blocks):\n",
        "    y = transformer_decoder(y, x, head_size, num_heads, ff_dim, dropout)\n",
        "# Reshape output to 2D tensor\n",
        "  y = tf.squeeze(y, axis=1)#squeeze for reducing the dimensionality to 1-D\n",
        "  outputs = Dense(input_shape[1])(y)\n",
        "  model = Model([inputs, decoder_inputs], outputs)#defines the model\n",
        "  return model"
      ],
      "metadata": {
        "id": "QR5KlLPM8QV_"
      },
      "execution_count": null,
      "outputs": []
    },
    {
      "cell_type": "code",
      "source": [
        "# Model parameters\n",
        "sequence_length = 2\n",
        "input_shape = (sequence_length, 4) # 2 days, 4 features\n",
        "head_size = 256\n",
        "num_heads = 4\n",
        "ff_dim = 256\n",
        "num_encoder_blocks = 2\n",
        "num_decoder_blocks = 2\n",
        "dropout = 0.1"
      ],
      "metadata": {
        "id": "l8aYSo-3Ks-l"
      },
      "execution_count": null,
      "outputs": []
    },
    {
      "cell_type": "code",
      "source": [
        "model = build_transformer_model(input_shape, head_size,num_heads, ff_dim, num_encoder_blocks, num_decoder_blocks,dropout)\n",
        "model.summary()"
      ],
      "metadata": {
        "colab": {
          "base_uri": "https://localhost:8080/"
        },
        "id": "oCtYfXDaKwrN",
        "outputId": "aa15e692-d7c3-4dc5-bbd7-fdbbd93f5c20"
      },
      "execution_count": null,
      "outputs": [
        {
          "output_type": "stream",
          "name": "stdout",
          "text": [
            "Model: \"model_1\"\n",
            "__________________________________________________________________________________________________\n",
            " Layer (type)                Output Shape                 Param #   Connected to                  \n",
            "==================================================================================================\n",
            " input_3 (InputLayer)        [(None, 2, 4)]               0         []                            \n",
            "                                                                                                  \n",
            " layer_normalization_10 (La  (None, 2, 4)                 8         ['input_3[0][0]']             \n",
            " yerNormalization)                                                                                \n",
            "                                                                                                  \n",
            " multi_head_attention_6 (Mu  (None, 2, 4)                 19460     ['layer_normalization_10[0][0]\n",
            " ltiHeadAttention)                                                  ',                            \n",
            "                                                                     'layer_normalization_10[0][0]\n",
            "                                                                    ']                            \n",
            "                                                                                                  \n",
            " dropout_14 (Dropout)        (None, 2, 4)                 0         ['multi_head_attention_6[0][0]\n",
            "                                                                    ']                            \n",
            "                                                                                                  \n",
            " add_10 (Add)                (None, 2, 4)                 0         ['dropout_14[0][0]',          \n",
            "                                                                     'input_3[0][0]']             \n",
            "                                                                                                  \n",
            " layer_normalization_11 (La  (None, 2, 4)                 8         ['add_10[0][0]']              \n",
            " yerNormalization)                                                                                \n",
            "                                                                                                  \n",
            " dense_9 (Dense)             (None, 2, 256)               1280      ['layer_normalization_11[0][0]\n",
            "                                                                    ']                            \n",
            "                                                                                                  \n",
            " dropout_15 (Dropout)        (None, 2, 256)               0         ['dense_9[0][0]']             \n",
            "                                                                                                  \n",
            " dense_10 (Dense)            (None, 2, 4)                 1028      ['dropout_15[0][0]']          \n",
            "                                                                                                  \n",
            " dropout_16 (Dropout)        (None, 2, 4)                 0         ['dense_10[0][0]']            \n",
            "                                                                                                  \n",
            " add_11 (Add)                (None, 2, 4)                 0         ['dropout_16[0][0]',          \n",
            "                                                                     'add_10[0][0]']              \n",
            "                                                                                                  \n",
            " layer_normalization_12 (La  (None, 2, 4)                 8         ['add_11[0][0]']              \n",
            " yerNormalization)                                                                                \n",
            "                                                                                                  \n",
            " multi_head_attention_7 (Mu  (None, 2, 4)                 19460     ['layer_normalization_12[0][0]\n",
            " ltiHeadAttention)                                                  ',                            \n",
            "                                                                     'layer_normalization_12[0][0]\n",
            "                                                                    ']                            \n",
            "                                                                                                  \n",
            " dropout_17 (Dropout)        (None, 2, 4)                 0         ['multi_head_attention_7[0][0]\n",
            "                                                                    ']                            \n",
            "                                                                                                  \n",
            " add_12 (Add)                (None, 2, 4)                 0         ['dropout_17[0][0]',          \n",
            "                                                                     'add_11[0][0]']              \n",
            "                                                                                                  \n",
            " input_4 (InputLayer)        [(None, 1, 4)]               0         []                            \n",
            "                                                                                                  \n",
            " layer_normalization_13 (La  (None, 2, 4)                 8         ['add_12[0][0]']              \n",
            " yerNormalization)                                                                                \n",
            "                                                                                                  \n",
            " layer_normalization_14 (La  (None, 1, 4)                 8         ['input_4[0][0]']             \n",
            " yerNormalization)                                                                                \n",
            "                                                                                                  \n",
            " dense_11 (Dense)            (None, 2, 256)               1280      ['layer_normalization_13[0][0]\n",
            "                                                                    ']                            \n",
            "                                                                                                  \n",
            " multi_head_attention_8 (Mu  (None, 1, 4)                 19460     ['layer_normalization_14[0][0]\n",
            " ltiHeadAttention)                                                  ',                            \n",
            "                                                                     'layer_normalization_14[0][0]\n",
            "                                                                    ']                            \n",
            "                                                                                                  \n",
            " dropout_18 (Dropout)        (None, 2, 256)               0         ['dense_11[0][0]']            \n",
            "                                                                                                  \n",
            " dropout_20 (Dropout)        (None, 1, 4)                 0         ['multi_head_attention_8[0][0]\n",
            "                                                                    ']                            \n",
            "                                                                                                  \n",
            " dense_12 (Dense)            (None, 2, 4)                 1028      ['dropout_18[0][0]']          \n",
            "                                                                                                  \n",
            " add_14 (Add)                (None, 1, 4)                 0         ['dropout_20[0][0]',          \n",
            "                                                                     'input_4[0][0]']             \n",
            "                                                                                                  \n",
            " dropout_19 (Dropout)        (None, 2, 4)                 0         ['dense_12[0][0]']            \n",
            "                                                                                                  \n",
            " layer_normalization_15 (La  (None, 1, 4)                 8         ['add_14[0][0]']              \n",
            " yerNormalization)                                                                                \n",
            "                                                                                                  \n",
            " add_13 (Add)                (None, 2, 4)                 0         ['dropout_19[0][0]',          \n",
            "                                                                     'add_12[0][0]']              \n",
            "                                                                                                  \n",
            " multi_head_attention_9 (Mu  (None, 1, 4)                 19460     ['layer_normalization_15[0][0]\n",
            " ltiHeadAttention)                                                  ',                            \n",
            "                                                                     'add_13[0][0]']              \n",
            "                                                                                                  \n",
            " dropout_21 (Dropout)        (None, 1, 4)                 0         ['multi_head_attention_9[0][0]\n",
            "                                                                    ']                            \n",
            "                                                                                                  \n",
            " add_15 (Add)                (None, 1, 4)                 0         ['dropout_21[0][0]',          \n",
            "                                                                     'add_14[0][0]']              \n",
            "                                                                                                  \n",
            " layer_normalization_16 (La  (None, 1, 4)                 8         ['add_15[0][0]']              \n",
            " yerNormalization)                                                                                \n",
            "                                                                                                  \n",
            " dense_13 (Dense)            (None, 1, 256)               1280      ['layer_normalization_16[0][0]\n",
            "                                                                    ']                            \n",
            "                                                                                                  \n",
            " dropout_22 (Dropout)        (None, 1, 256)               0         ['dense_13[0][0]']            \n",
            "                                                                                                  \n",
            " dense_14 (Dense)            (None, 1, 4)                 1028      ['dropout_22[0][0]']          \n",
            "                                                                                                  \n",
            " dropout_23 (Dropout)        (None, 1, 4)                 0         ['dense_14[0][0]']            \n",
            "                                                                                                  \n",
            " add_16 (Add)                (None, 1, 4)                 0         ['dropout_23[0][0]',          \n",
            "                                                                     'add_15[0][0]']              \n",
            "                                                                                                  \n",
            " layer_normalization_17 (La  (None, 1, 4)                 8         ['add_16[0][0]']              \n",
            " yerNormalization)                                                                                \n",
            "                                                                                                  \n",
            " multi_head_attention_10 (M  (None, 1, 4)                 19460     ['layer_normalization_17[0][0]\n",
            " ultiHeadAttention)                                                 ',                            \n",
            "                                                                     'layer_normalization_17[0][0]\n",
            "                                                                    ']                            \n",
            "                                                                                                  \n",
            " dropout_24 (Dropout)        (None, 1, 4)                 0         ['multi_head_attention_10[0][0\n",
            "                                                                    ]']                           \n",
            "                                                                                                  \n",
            " add_17 (Add)                (None, 1, 4)                 0         ['dropout_24[0][0]',          \n",
            "                                                                     'add_16[0][0]']              \n",
            "                                                                                                  \n",
            " layer_normalization_18 (La  (None, 1, 4)                 8         ['add_17[0][0]']              \n",
            " yerNormalization)                                                                                \n",
            "                                                                                                  \n",
            " multi_head_attention_11 (M  (None, 1, 4)                 19460     ['layer_normalization_18[0][0]\n",
            " ultiHeadAttention)                                                 ',                            \n",
            "                                                                     'add_13[0][0]']              \n",
            "                                                                                                  \n",
            " dropout_25 (Dropout)        (None, 1, 4)                 0         ['multi_head_attention_11[0][0\n",
            "                                                                    ]']                           \n",
            "                                                                                                  \n",
            " add_18 (Add)                (None, 1, 4)                 0         ['dropout_25[0][0]',          \n",
            "                                                                     'add_17[0][0]']              \n",
            "                                                                                                  \n",
            " layer_normalization_19 (La  (None, 1, 4)                 8         ['add_18[0][0]']              \n",
            " yerNormalization)                                                                                \n",
            "                                                                                                  \n",
            " dense_15 (Dense)            (None, 1, 256)               1280      ['layer_normalization_19[0][0]\n",
            "                                                                    ']                            \n",
            "                                                                                                  \n",
            " dropout_26 (Dropout)        (None, 1, 256)               0         ['dense_15[0][0]']            \n",
            "                                                                                                  \n",
            " dense_16 (Dense)            (None, 1, 4)                 1028      ['dropout_26[0][0]']          \n",
            "                                                                                                  \n",
            " dropout_27 (Dropout)        (None, 1, 4)                 0         ['dense_16[0][0]']            \n",
            "                                                                                                  \n",
            " add_19 (Add)                (None, 1, 4)                 0         ['dropout_27[0][0]',          \n",
            "                                                                     'add_18[0][0]']              \n",
            "                                                                                                  \n",
            " tf.compat.v1.squeeze_1 (TF  (None, 4)                    0         ['add_19[0][0]']              \n",
            " OpLambda)                                                                                        \n",
            "                                                                                                  \n",
            " dense_17 (Dense)            (None, 4)                    20        ['tf.compat.v1.squeeze_1[0][0]\n",
            "                                                                    ']                            \n",
            "                                                                                                  \n",
            "==================================================================================================\n",
            "Total params: 126092 (492.55 KB)\n",
            "Trainable params: 126092 (492.55 KB)\n",
            "Non-trainable params: 0 (0.00 Byte)\n",
            "__________________________________________________________________________________________________\n"
          ]
        }
      ]
    },
    {
      "cell_type": "code",
      "source": [
        "model.compile(optimizer='adam', loss='mean_squared_error')"
      ],
      "metadata": {
        "id": "NLdZ3x6BK5Dm"
      },
      "execution_count": null,
      "outputs": []
    },
    {
      "cell_type": "code",
      "source": [
        "#Train the model\n",
        "decoder_input_data = np.zeros((trainX.shape[0], 1,trainX.shape[2])) # Shape (num_samples, 1, num_features)\n",
        "model.fit([trainX, decoder_input_data], trainY, epochs=30,batch_size=16, validation_split=0.2)"
      ],
      "metadata": {
        "colab": {
          "base_uri": "https://localhost:8080/"
        },
        "id": "G7QVgRfsK-Xu",
        "outputId": "6f3c8ec9-a538-4358-f823-17615321684c"
      },
      "execution_count": null,
      "outputs": [
        {
          "output_type": "stream",
          "name": "stdout",
          "text": [
            "Epoch 1/30\n",
            "56/56 [==============================] - 17s 71ms/step - loss: 0.0395 - val_loss: 0.0353\n",
            "Epoch 2/30\n",
            "56/56 [==============================] - 2s 29ms/step - loss: 0.0154 - val_loss: 0.0691\n",
            "Epoch 3/30\n",
            "56/56 [==============================] - 2s 38ms/step - loss: 0.0117 - val_loss: 0.0412\n",
            "Epoch 4/30\n",
            "56/56 [==============================] - 5s 98ms/step - loss: 0.0091 - val_loss: 0.0252\n",
            "Epoch 5/30\n",
            "56/56 [==============================] - 7s 117ms/step - loss: 0.0070 - val_loss: 0.0260\n",
            "Epoch 6/30\n",
            "56/56 [==============================] - 3s 59ms/step - loss: 0.0068 - val_loss: 0.0219\n",
            "Epoch 7/30\n",
            "56/56 [==============================] - 3s 49ms/step - loss: 0.0067 - val_loss: 0.0132\n",
            "Epoch 8/30\n",
            "56/56 [==============================] - 2s 31ms/step - loss: 0.0062 - val_loss: 0.0093\n",
            "Epoch 9/30\n",
            "56/56 [==============================] - 2s 30ms/step - loss: 0.0041 - val_loss: 0.0105\n",
            "Epoch 10/30\n",
            "56/56 [==============================] - 2s 27ms/step - loss: 0.0051 - val_loss: 0.0226\n",
            "Epoch 11/30\n",
            "56/56 [==============================] - 2s 42ms/step - loss: 0.0064 - val_loss: 0.0268\n",
            "Epoch 12/30\n",
            "56/56 [==============================] - 3s 48ms/step - loss: 0.0052 - val_loss: 0.0069\n",
            "Epoch 13/30\n",
            "56/56 [==============================] - 1s 25ms/step - loss: 0.0042 - val_loss: 0.0145\n",
            "Epoch 14/30\n",
            "56/56 [==============================] - 2s 44ms/step - loss: 0.0041 - val_loss: 0.0025\n",
            "Epoch 15/30\n",
            "56/56 [==============================] - 2s 43ms/step - loss: 0.0041 - val_loss: 0.0029\n",
            "Epoch 16/30\n",
            "56/56 [==============================] - 3s 48ms/step - loss: 0.0036 - val_loss: 0.0127\n",
            "Epoch 17/30\n",
            "56/56 [==============================] - 2s 42ms/step - loss: 0.0031 - val_loss: 0.0086\n",
            "Epoch 18/30\n",
            "56/56 [==============================] - 3s 49ms/step - loss: 0.0035 - val_loss: 0.0092\n",
            "Epoch 19/30\n",
            "56/56 [==============================] - 2s 34ms/step - loss: 0.0028 - val_loss: 0.0074\n",
            "Epoch 20/30\n",
            "56/56 [==============================] - 1s 26ms/step - loss: 0.0032 - val_loss: 0.0056\n",
            "Epoch 21/30\n",
            "56/56 [==============================] - 1s 25ms/step - loss: 0.0034 - val_loss: 0.0052\n",
            "Epoch 22/30\n",
            "56/56 [==============================] - 1s 26ms/step - loss: 0.0049 - val_loss: 0.0096\n",
            "Epoch 23/30\n",
            "56/56 [==============================] - 3s 48ms/step - loss: 0.0031 - val_loss: 0.0133\n",
            "Epoch 24/30\n",
            "56/56 [==============================] - 2s 36ms/step - loss: 0.0023 - val_loss: 0.0028\n",
            "Epoch 25/30\n",
            "56/56 [==============================] - 4s 66ms/step - loss: 0.0026 - val_loss: 0.0073\n",
            "Epoch 26/30\n",
            "56/56 [==============================] - 3s 59ms/step - loss: 0.0021 - val_loss: 0.0080\n",
            "Epoch 27/30\n",
            "56/56 [==============================] - 2s 36ms/step - loss: 0.0019 - val_loss: 0.0109\n",
            "Epoch 28/30\n",
            "56/56 [==============================] - 1s 27ms/step - loss: 0.0017 - val_loss: 0.0050\n",
            "Epoch 29/30\n",
            "56/56 [==============================] - 1s 26ms/step - loss: 0.0019 - val_loss: 0.0077\n",
            "Epoch 30/30\n",
            "56/56 [==============================] - 2s 28ms/step - loss: 0.0024 - val_loss: 0.0120\n"
          ]
        },
        {
          "output_type": "execute_result",
          "data": {
            "text/plain": [
              "<keras.src.callbacks.History at 0x7fc78935f5e0>"
            ]
          },
          "metadata": {},
          "execution_count": 28
        }
      ]
    },
    {
      "cell_type": "code",
      "source": [
        "decoder_input_data_test = np.zeros((testX.shape[0], 1,testX.shape[2])) # Shape (num_samples, 1, num_features)\n",
        "test_predict = model.predict([testX,decoder_input_data_test])\n",
        "test_predict = scaler.inverse_transform(test_predict) #Inverse transform to original scale\n",
        "actual_testY = scaler.inverse_transform(testY)"
      ],
      "metadata": {
        "colab": {
          "base_uri": "https://localhost:8080/"
        },
        "id": "pYztlz2bLDd3",
        "outputId": "8213ad8b-c11c-4fe7-b1b3-08b7ad8b4f0d"
      },
      "execution_count": null,
      "outputs": [
        {
          "output_type": "stream",
          "name": "stdout",
          "text": [
            "18/18 [==============================] - 3s 19ms/step\n"
          ]
        }
      ]
    },
    {
      "cell_type": "code",
      "source": [
        "import math\n",
        "from sklearn.metrics import mean_squared_error\n",
        "testScore =math.sqrt(mean_squared_error(actual_testY,test_predict))\n",
        "print('Test Score: %.2f RMSE' % (testScore))"
      ],
      "metadata": {
        "colab": {
          "base_uri": "https://localhost:8080/"
        },
        "id": "DZsDRlBhLrm-",
        "outputId": "471c34cb-5eb2-4e2e-d4b4-6f9a6d6147d4"
      },
      "execution_count": null,
      "outputs": [
        {
          "output_type": "stream",
          "name": "stdout",
          "text": [
            "Test Score: 14.84 RMSE\n"
          ]
        }
      ]
    },
    {
      "cell_type": "code",
      "source": [
        "decoder_input_data_train = np.zeros((trainX.shape[0], 1,trainX.shape[2])) # Shape (num_samples, 1, num_features)\n",
        "train_predict = model.predict([trainX,decoder_input_data_train])\n",
        "train_predict = scaler.inverse_transform(train_predict) #Inverse transform to original scale\n",
        "actual_trainY = scaler.inverse_transform(trainY)"
      ],
      "metadata": {
        "colab": {
          "base_uri": "https://localhost:8080/"
        },
        "id": "WguoaFugLwkg",
        "outputId": "84c2db2d-50a5-4d2e-ed68-b7007a48c726"
      },
      "execution_count": null,
      "outputs": [
        {
          "output_type": "stream",
          "name": "stdout",
          "text": [
            "35/35 [==============================] - 1s 18ms/step\n"
          ]
        }
      ]
    },
    {
      "cell_type": "code",
      "source": [
        "trainScore =math.sqrt(mean_squared_error(actual_trainY,train_predict))\n",
        "print('Train Score: %.2f RMSE' % (trainScore))"
      ],
      "metadata": {
        "colab": {
          "base_uri": "https://localhost:8080/"
        },
        "id": "2bSQG70zLwn3",
        "outputId": "5c91641e-11b8-4449-a4ad-8efcfed1f756"
      },
      "execution_count": null,
      "outputs": [
        {
          "output_type": "stream",
          "name": "stdout",
          "text": [
            "Train Score: 7.23 RMSE\n"
          ]
        }
      ]
    },
    {
      "cell_type": "code",
      "source": [
        "# shift train predictions for plotting\n",
        "trainPredictPlot = np.empty_like(dataset)\n",
        "trainPredictPlot[:, :] = np.nan\n",
        "trainPredictPlot[look_back:len(train_predict)+look_back, :] =train_predict"
      ],
      "metadata": {
        "id": "eRIpUJAmMDbC"
      },
      "execution_count": null,
      "outputs": []
    },
    {
      "cell_type": "code",
      "source": [
        "# shift test predictions for plotting\n",
        "testPredictPlot = np.empty_like(dataset)\n",
        "testPredictPlot[:, :] = np.nan\n",
        "testPredictPlot[len(train_predict)+(look_back*2):len(dataset), :] = test_predict"
      ],
      "metadata": {
        "id": "vO8CtVV5MDeL"
      },
      "execution_count": null,
      "outputs": []
    },
    {
      "cell_type": "code",
      "source": [
        "# plot baseline and predictions\n",
        "plt.plot(scaler.inverse_transform(dataset))\n",
        "plt.plot(trainPredictPlot)\n",
        "plt.plot(testPredictPlot)\n",
        "plt.show()"
      ],
      "metadata": {
        "colab": {
          "base_uri": "https://localhost:8080/",
          "height": 430
        },
        "id": "kyruxQVYMDhB",
        "outputId": "93f8ed1f-9898-4ad7-f1ef-d45057144d2d"
      },
      "execution_count": null,
      "outputs": [
        {
          "output_type": "display_data",
          "data": {
            "text/plain": [
              "<Figure size 640x480 with 1 Axes>"
            ],
            "image/png": "[encoded data removed]"
          },
          "metadata": {}
        }
      ]
    },
    {
      "cell_type": "code",
      "source": [],
      "metadata": {
        "id": "yf7CpM6cMlHW"
      },
      "execution_count": null,
      "outputs": []
    }
  ]
}