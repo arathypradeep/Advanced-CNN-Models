{
  "nbformat": 4,
  "nbformat_minor": 0,
  "metadata": {
    "colab": {
      "provenance": []
    },
    "kernelspec": {
      "name": "python3",
      "display_name": "Python 3"
    },
    "language_info": {
      "name": "python"
    }
  },
  "cells": [
    {
      "cell_type": "code",
      "execution_count": null,
      "metadata": {
        "id": "sP1g6w9aVl5S"
      },
      "outputs": [],
      "source": [
        "import pandas as pd\n",
        "import matplotlib.pyplot as plt\n",
        "import numpy as np\n",
        "import math\n",
        "from sklearn.preprocessing import MinMaxScaler\n",
        "from sklearn.metrics import mean_squared_error\n",
        "from keras.models import Sequential\n",
        "from keras.layers import Dense, Activation\n",
        "from keras.layers import LSTM"
      ]
    },
    {
      "cell_type": "code",
      "source": [
        "from google.colab import drive\n",
        "drive.mount('/content/drive')"
      ],
      "metadata": {
        "colab": {
          "base_uri": "https://localhost:8080/"
        },
        "id": "ahrR7zM1VoC6",
        "outputId": "51d6b911-2f80-4fe4-c7fc-3b562e43dd91"
      },
      "execution_count": null,
      "outputs": [
        {
          "output_type": "stream",
          "name": "stdout",
          "text": [
            "Drive already mounted at /content/drive; to attempt to forcibly remount, call drive.mount(\"/content/drive\", force_remount=True).\n"
          ]
        }
      ]
    },
    {
      "cell_type": "code",
      "source": [
        "# IMPORTING DATASET\n",
        "dataset = pd.read_csv('/content/drive/MyDrive/apple_share_price.csv',usecols=[1,2,3,4])\n",
        "dataset = dataset.reindex(index = dataset.index[::-1])# display from lower to higher\n",
        "print(dataset)\n"
      ],
      "metadata": {
        "colab": {
          "base_uri": "https://localhost:8080/"
        },
        "id": "YSrXSjPsVsRm",
        "outputId": "768eb204-5091-4e67-eaf5-9dd14ecf0671"
      },
      "execution_count": null,
      "outputs": [
        {
          "output_type": "stream",
          "name": "stdout",
          "text": [
            "        Open    High     Low   Close\n",
            "1663   46.52   47.18   46.41   47.08\n",
            "1662   47.49   47.50   46.88   47.33\n",
            "1661   47.08   47.76   47.07   47.71\n",
            "1660   47.82   47.89   47.56   47.68\n",
            "1659   47.71   48.05   47.41   48.02\n",
            "...      ...     ...     ...     ...\n",
            "4     157.06  158.92  156.67  158.81\n",
            "3     158.60  161.83  158.27  160.08\n",
            "2     159.26  161.27  159.11  161.06\n",
            "1     159.90  160.00  154.63  155.32\n",
            "0     156.60  158.57  156.07  157.48\n",
            "\n",
            "[1664 rows x 4 columns]\n"
          ]
        }
      ]
    },
    {
      "cell_type": "code",
      "source": [
        "dataset = dataset.astype('float32')\n",
        "\n",
        "# normalize the dataset\n",
        "scaler = MinMaxScaler(feature_range=(0, 1))#normalization\n",
        "dataset = scaler.fit_transform(dataset)#all the valus in dataset coneverted in between 0 and 1 so the process become fast"
      ],
      "metadata": {
        "id": "rv8XirseV4DQ"
      },
      "execution_count": null,
      "outputs": []
    },
    {
      "cell_type": "code",
      "source": [
        "# split into train and test sets\n",
        "train_size = int(len(dataset) * 0.67)\n",
        "test_size = len(dataset) - train_size\n",
        "train, test = dataset[0:train_size,:],dataset[train_size:len(dataset),:]"
      ],
      "metadata": {
        "id": "q6ZcIuhvV8AE"
      },
      "execution_count": null,
      "outputs": []
    },
    {
      "cell_type": "code",
      "source": [
        "# split a multivariate sequence into samples\n",
        "def create_dataset(sequences, n_steps):\n",
        "  X, y = list(), list()\n",
        "  for i in range(len(sequences)):\n",
        "\n",
        "# find the end of this pattern\n",
        "    end_ix = i + n_steps\n",
        "# check if we are beyond the dataset\n",
        "    if end_ix > len(sequences)-1:  #if the value goes beyond the training dataset then the iteration stops\n",
        "      break\n",
        "# gather input and output parts of the pattern\n",
        "    seq_x, seq_y = sequences[i:end_ix, :], sequences[end_ix, :]\n",
        "    X.append(seq_x)\n",
        "    y.append(seq_y)\n",
        "  return np.array(X), np.array(y)# returns as a matrix"
      ],
      "metadata": {
        "id": "sGXag6NKV-30"
      },
      "execution_count": null,
      "outputs": []
    },
    {
      "cell_type": "code",
      "source": [
        "# reshape into X=t and Y=t+1\n",
        "look_back = 2 # n_steps\n",
        "trainX, trainY = create_dataset(train, look_back)\n",
        "testX, testY = create_dataset(test, look_back)\n",
        "print(trainX.shape)\n",
        "print(trainY.shape)\n",
        "print(testX.shape)\n",
        "print(testY.shape)"
      ],
      "metadata": {
        "colab": {
          "base_uri": "https://localhost:8080/"
        },
        "id": "K1X0vEvEXTHE",
        "outputId": "9fec3a88-929c-4b09-8d0b-0bec01d51b81"
      },
      "execution_count": null,
      "outputs": [
        {
          "output_type": "stream",
          "name": "stdout",
          "text": [
            "(1112, 2, 4)\n",
            "(1112, 4)\n",
            "(548, 2, 4)\n",
            "(548, 4)\n"
          ]
        }
      ]
    },
    {
      "cell_type": "code",
      "source": [
        "# define model\n",
        "n_features = trainX.shape[2]\n",
        "model = Sequential()\n",
        "model.add(LSTM(100, activation='relu', return_sequences=True,input_shape=(look_back, n_features)))#100 hidden layers,relu because the dataset is non linear (max(0),x),instead of return_sequence= True we can use repeat layer\n",
        "model.add(LSTM(256, activation='relu'))\n",
        "model.add(Dense(n_features))\n",
        "model.compile(optimizer='adam', loss='mse')#optimization and initialisation are responsible for compile function\n",
        "model.summary()"
      ],
      "metadata": {
        "colab": {
          "base_uri": "https://localhost:8080/"
        },
        "id": "vkDDgI-WZy1M",
        "outputId": "eb8611d8-cc77-4685-f748-586872b2e9f0"
      },
      "execution_count": null,
      "outputs": [
        {
          "output_type": "stream",
          "name": "stdout",
          "text": [
            "Model: \"sequential\"\n",
            "_________________________________________________________________\n",
            " Layer (type)                Output Shape              Param #   \n",
            "=================================================================\n",
            " lstm (LSTM)                 (None, 2, 100)            42000     \n",
            "                                                                 \n",
            " lstm_1 (LSTM)               (None, 256)               365568    \n",
            "                                                                 \n",
            " dense (Dense)               (None, 4)                 1028      \n",
            "                                                                 \n",
            "=================================================================\n",
            "Total params: 408596 (1.56 MB)\n",
            "Trainable params: 408596 (1.56 MB)\n",
            "Non-trainable params: 0 (0.00 Byte)\n",
            "_________________________________________________________________\n"
          ]
        }
      ]
    },
    {
      "cell_type": "code",
      "source": [
        "model.fit(trainX, trainY, validation_data=(testX, testY),epochs=100, batch_size=100, verbose=2)"
      ],
      "metadata": {
        "colab": {
          "base_uri": "https://localhost:8080/"
        },
        "id": "kd5VontCmBoB",
        "outputId": "b0f1fb98-d8b5-4dbd-f2a1-240d330f6084"
      },
      "execution_count": null,
      "outputs": [
        {
          "output_type": "stream",
          "name": "stdout",
          "text": [
            "Epoch 1/100\n",
            "12/12 - 9s - loss: 0.1121 - val_loss: 0.3497 - 9s/epoch - 717ms/step\n",
            "Epoch 2/100\n",
            "12/12 - 0s - loss: 0.0739 - val_loss: 0.1744 - 324ms/epoch - 27ms/step\n",
            "Epoch 3/100\n",
            "12/12 - 0s - loss: 0.0215 - val_loss: 0.0019 - 307ms/epoch - 26ms/step\n",
            "Epoch 4/100\n",
            "12/12 - 0s - loss: 0.0110 - val_loss: 0.0201 - 298ms/epoch - 25ms/step\n",
            "Epoch 5/100\n",
            "12/12 - 0s - loss: 0.0051 - val_loss: 6.0971e-04 - 298ms/epoch - 25ms/step\n",
            "Epoch 6/100\n",
            "12/12 - 0s - loss: 0.0011 - val_loss: 0.0028 - 278ms/epoch - 23ms/step\n",
            "Epoch 7/100\n",
            "12/12 - 0s - loss: 6.2171e-04 - val_loss: 0.0031 - 342ms/epoch - 28ms/step\n",
            "Epoch 8/100\n",
            "12/12 - 0s - loss: 3.5151e-04 - val_loss: 0.0023 - 313ms/epoch - 26ms/step\n",
            "Epoch 9/100\n",
            "12/12 - 0s - loss: 2.6553e-04 - val_loss: 0.0020 - 317ms/epoch - 26ms/step\n",
            "Epoch 10/100\n",
            "12/12 - 0s - loss: 2.3457e-04 - val_loss: 0.0015 - 334ms/epoch - 28ms/step\n",
            "Epoch 11/100\n",
            "12/12 - 0s - loss: 2.1208e-04 - val_loss: 0.0012 - 287ms/epoch - 24ms/step\n",
            "Epoch 12/100\n",
            "12/12 - 0s - loss: 2.1145e-04 - val_loss: 0.0012 - 285ms/epoch - 24ms/step\n",
            "Epoch 13/100\n",
            "12/12 - 0s - loss: 2.0290e-04 - val_loss: 0.0013 - 317ms/epoch - 26ms/step\n",
            "Epoch 14/100\n",
            "12/12 - 0s - loss: 1.9618e-04 - val_loss: 0.0011 - 280ms/epoch - 23ms/step\n",
            "Epoch 15/100\n",
            "12/12 - 0s - loss: 1.9622e-04 - val_loss: 0.0012 - 451ms/epoch - 38ms/step\n",
            "Epoch 16/100\n",
            "12/12 - 1s - loss: 1.9329e-04 - val_loss: 9.5020e-04 - 576ms/epoch - 48ms/step\n",
            "Epoch 17/100\n",
            "12/12 - 1s - loss: 1.9202e-04 - val_loss: 9.0666e-04 - 591ms/epoch - 49ms/step\n",
            "Epoch 18/100\n",
            "12/12 - 1s - loss: 1.8632e-04 - val_loss: 9.4213e-04 - 580ms/epoch - 48ms/step\n",
            "Epoch 19/100\n",
            "12/12 - 1s - loss: 1.8455e-04 - val_loss: 8.4582e-04 - 607ms/epoch - 51ms/step\n",
            "Epoch 20/100\n",
            "12/12 - 1s - loss: 1.8616e-04 - val_loss: 7.9159e-04 - 598ms/epoch - 50ms/step\n",
            "Epoch 21/100\n",
            "12/12 - 1s - loss: 1.8478e-04 - val_loss: 7.3440e-04 - 585ms/epoch - 49ms/step\n",
            "Epoch 22/100\n",
            "12/12 - 1s - loss: 1.8155e-04 - val_loss: 9.3080e-04 - 642ms/epoch - 53ms/step\n",
            "Epoch 23/100\n",
            "12/12 - 1s - loss: 2.0126e-04 - val_loss: 8.4120e-04 - 601ms/epoch - 50ms/step\n",
            "Epoch 24/100\n",
            "12/12 - 1s - loss: 1.8461e-04 - val_loss: 7.0347e-04 - 1s/epoch - 88ms/step\n",
            "Epoch 25/100\n",
            "12/12 - 1s - loss: 1.7810e-04 - val_loss: 6.7210e-04 - 602ms/epoch - 50ms/step\n",
            "Epoch 26/100\n",
            "12/12 - 0s - loss: 1.7815e-04 - val_loss: 6.6395e-04 - 486ms/epoch - 40ms/step\n",
            "Epoch 27/100\n",
            "12/12 - 1s - loss: 1.8265e-04 - val_loss: 6.0298e-04 - 554ms/epoch - 46ms/step\n",
            "Epoch 28/100\n",
            "12/12 - 0s - loss: 1.8009e-04 - val_loss: 5.5480e-04 - 300ms/epoch - 25ms/step\n",
            "Epoch 29/100\n",
            "12/12 - 0s - loss: 1.7764e-04 - val_loss: 5.3559e-04 - 295ms/epoch - 25ms/step\n",
            "Epoch 30/100\n",
            "12/12 - 0s - loss: 1.7745e-04 - val_loss: 5.6660e-04 - 316ms/epoch - 26ms/step\n",
            "Epoch 31/100\n",
            "12/12 - 0s - loss: 1.7515e-04 - val_loss: 5.6187e-04 - 294ms/epoch - 24ms/step\n",
            "Epoch 32/100\n",
            "12/12 - 0s - loss: 1.7781e-04 - val_loss: 5.8571e-04 - 310ms/epoch - 26ms/step\n",
            "Epoch 33/100\n",
            "12/12 - 0s - loss: 1.7542e-04 - val_loss: 5.4480e-04 - 292ms/epoch - 24ms/step\n",
            "Epoch 34/100\n",
            "12/12 - 0s - loss: 1.7375e-04 - val_loss: 5.5508e-04 - 297ms/epoch - 25ms/step\n",
            "Epoch 35/100\n",
            "12/12 - 0s - loss: 1.7361e-04 - val_loss: 5.1440e-04 - 292ms/epoch - 24ms/step\n",
            "Epoch 36/100\n",
            "12/12 - 0s - loss: 1.7360e-04 - val_loss: 6.2704e-04 - 294ms/epoch - 24ms/step\n",
            "Epoch 37/100\n",
            "12/12 - 0s - loss: 1.7735e-04 - val_loss: 5.4720e-04 - 281ms/epoch - 23ms/step\n",
            "Epoch 38/100\n",
            "12/12 - 0s - loss: 1.7191e-04 - val_loss: 4.7014e-04 - 301ms/epoch - 25ms/step\n",
            "Epoch 39/100\n",
            "12/12 - 0s - loss: 1.7352e-04 - val_loss: 4.7837e-04 - 292ms/epoch - 24ms/step\n",
            "Epoch 40/100\n",
            "12/12 - 0s - loss: 1.7660e-04 - val_loss: 5.5355e-04 - 286ms/epoch - 24ms/step\n",
            "Epoch 41/100\n",
            "12/12 - 0s - loss: 1.7356e-04 - val_loss: 4.7548e-04 - 304ms/epoch - 25ms/step\n",
            "Epoch 42/100\n",
            "12/12 - 0s - loss: 1.7100e-04 - val_loss: 5.1443e-04 - 294ms/epoch - 24ms/step\n",
            "Epoch 43/100\n",
            "12/12 - 0s - loss: 1.6992e-04 - val_loss: 4.3256e-04 - 295ms/epoch - 25ms/step\n",
            "Epoch 44/100\n",
            "12/12 - 0s - loss: 1.7737e-04 - val_loss: 4.4197e-04 - 323ms/epoch - 27ms/step\n",
            "Epoch 45/100\n",
            "12/12 - 0s - loss: 1.7714e-04 - val_loss: 4.0413e-04 - 301ms/epoch - 25ms/step\n",
            "Epoch 46/100\n",
            "12/12 - 0s - loss: 1.7264e-04 - val_loss: 5.7540e-04 - 330ms/epoch - 27ms/step\n",
            "Epoch 47/100\n",
            "12/12 - 0s - loss: 1.7406e-04 - val_loss: 4.8769e-04 - 280ms/epoch - 23ms/step\n",
            "Epoch 48/100\n",
            "12/12 - 0s - loss: 1.7022e-04 - val_loss: 4.3142e-04 - 288ms/epoch - 24ms/step\n",
            "Epoch 49/100\n",
            "12/12 - 0s - loss: 1.7297e-04 - val_loss: 4.8537e-04 - 304ms/epoch - 25ms/step\n",
            "Epoch 50/100\n",
            "12/12 - 0s - loss: 1.7328e-04 - val_loss: 4.4427e-04 - 281ms/epoch - 23ms/step\n",
            "Epoch 51/100\n",
            "12/12 - 0s - loss: 1.6921e-04 - val_loss: 4.3057e-04 - 284ms/epoch - 24ms/step\n",
            "Epoch 52/100\n",
            "12/12 - 0s - loss: 1.6658e-04 - val_loss: 3.9088e-04 - 318ms/epoch - 27ms/step\n",
            "Epoch 53/100\n",
            "12/12 - 0s - loss: 1.7629e-04 - val_loss: 4.0867e-04 - 305ms/epoch - 25ms/step\n",
            "Epoch 54/100\n",
            "12/12 - 0s - loss: 1.6935e-04 - val_loss: 3.9992e-04 - 282ms/epoch - 24ms/step\n",
            "Epoch 55/100\n",
            "12/12 - 0s - loss: 1.8052e-04 - val_loss: 3.9380e-04 - 287ms/epoch - 24ms/step\n",
            "Epoch 56/100\n",
            "12/12 - 0s - loss: 1.8475e-04 - val_loss: 4.1643e-04 - 463ms/epoch - 39ms/step\n",
            "Epoch 57/100\n",
            "12/12 - 0s - loss: 1.6509e-04 - val_loss: 4.5239e-04 - 470ms/epoch - 39ms/step\n",
            "Epoch 58/100\n",
            "12/12 - 0s - loss: 1.7006e-04 - val_loss: 5.8568e-04 - 457ms/epoch - 38ms/step\n",
            "Epoch 59/100\n",
            "12/12 - 0s - loss: 1.9487e-04 - val_loss: 4.4724e-04 - 440ms/epoch - 37ms/step\n",
            "Epoch 60/100\n",
            "12/12 - 0s - loss: 1.7284e-04 - val_loss: 3.8959e-04 - 475ms/epoch - 40ms/step\n",
            "Epoch 61/100\n",
            "12/12 - 1s - loss: 1.6838e-04 - val_loss: 3.7697e-04 - 558ms/epoch - 46ms/step\n",
            "Epoch 62/100\n",
            "12/12 - 1s - loss: 1.8316e-04 - val_loss: 3.8929e-04 - 570ms/epoch - 48ms/step\n",
            "Epoch 63/100\n",
            "12/12 - 1s - loss: 1.7434e-04 - val_loss: 4.5882e-04 - 549ms/epoch - 46ms/step\n",
            "Epoch 64/100\n",
            "12/12 - 0s - loss: 1.7029e-04 - val_loss: 5.1486e-04 - 486ms/epoch - 40ms/step\n",
            "Epoch 65/100\n",
            "12/12 - 0s - loss: 1.6566e-04 - val_loss: 3.8042e-04 - 295ms/epoch - 25ms/step\n",
            "Epoch 66/100\n",
            "12/12 - 0s - loss: 1.6349e-04 - val_loss: 4.1765e-04 - 282ms/epoch - 23ms/step\n",
            "Epoch 67/100\n",
            "12/12 - 0s - loss: 1.6313e-04 - val_loss: 3.7401e-04 - 333ms/epoch - 28ms/step\n",
            "Epoch 68/100\n",
            "12/12 - 0s - loss: 1.6311e-04 - val_loss: 3.7698e-04 - 300ms/epoch - 25ms/step\n",
            "Epoch 69/100\n",
            "12/12 - 0s - loss: 1.6310e-04 - val_loss: 3.5674e-04 - 290ms/epoch - 24ms/step\n",
            "Epoch 70/100\n",
            "12/12 - 0s - loss: 1.6889e-04 - val_loss: 3.6480e-04 - 319ms/epoch - 27ms/step\n",
            "Epoch 71/100\n",
            "12/12 - 0s - loss: 1.6523e-04 - val_loss: 4.8119e-04 - 295ms/epoch - 25ms/step\n",
            "Epoch 72/100\n",
            "12/12 - 0s - loss: 1.7740e-04 - val_loss: 4.0021e-04 - 287ms/epoch - 24ms/step\n",
            "Epoch 73/100\n",
            "12/12 - 0s - loss: 1.6197e-04 - val_loss: 4.6347e-04 - 322ms/epoch - 27ms/step\n",
            "Epoch 74/100\n",
            "12/12 - 0s - loss: 1.6581e-04 - val_loss: 4.5421e-04 - 288ms/epoch - 24ms/step\n",
            "Epoch 75/100\n",
            "12/12 - 0s - loss: 1.6492e-04 - val_loss: 3.6981e-04 - 305ms/epoch - 25ms/step\n",
            "Epoch 76/100\n",
            "12/12 - 0s - loss: 1.5784e-04 - val_loss: 3.9425e-04 - 284ms/epoch - 24ms/step\n",
            "Epoch 77/100\n",
            "12/12 - 0s - loss: 1.5768e-04 - val_loss: 3.9151e-04 - 312ms/epoch - 26ms/step\n",
            "Epoch 78/100\n",
            "12/12 - 0s - loss: 1.6425e-04 - val_loss: 5.2980e-04 - 292ms/epoch - 24ms/step\n",
            "Epoch 79/100\n",
            "12/12 - 0s - loss: 1.6369e-04 - val_loss: 3.6619e-04 - 291ms/epoch - 24ms/step\n",
            "Epoch 80/100\n",
            "12/12 - 0s - loss: 1.6160e-04 - val_loss: 3.4012e-04 - 335ms/epoch - 28ms/step\n",
            "Epoch 81/100\n",
            "12/12 - 0s - loss: 1.6974e-04 - val_loss: 3.7042e-04 - 297ms/epoch - 25ms/step\n",
            "Epoch 82/100\n",
            "12/12 - 0s - loss: 1.5975e-04 - val_loss: 4.6146e-04 - 276ms/epoch - 23ms/step\n",
            "Epoch 83/100\n",
            "12/12 - 0s - loss: 1.6380e-04 - val_loss: 3.2291e-04 - 318ms/epoch - 26ms/step\n",
            "Epoch 84/100\n",
            "12/12 - 0s - loss: 1.6349e-04 - val_loss: 3.5235e-04 - 328ms/epoch - 27ms/step\n",
            "Epoch 85/100\n",
            "12/12 - 0s - loss: 1.5955e-04 - val_loss: 3.7148e-04 - 294ms/epoch - 24ms/step\n",
            "Epoch 86/100\n",
            "12/12 - 0s - loss: 1.5805e-04 - val_loss: 3.3309e-04 - 315ms/epoch - 26ms/step\n",
            "Epoch 87/100\n",
            "12/12 - 0s - loss: 1.5790e-04 - val_loss: 3.3284e-04 - 322ms/epoch - 27ms/step\n",
            "Epoch 88/100\n",
            "12/12 - 0s - loss: 1.6040e-04 - val_loss: 3.5475e-04 - 304ms/epoch - 25ms/step\n",
            "Epoch 89/100\n",
            "12/12 - 0s - loss: 1.5380e-04 - val_loss: 3.8547e-04 - 288ms/epoch - 24ms/step\n",
            "Epoch 90/100\n",
            "12/12 - 0s - loss: 1.5728e-04 - val_loss: 3.4963e-04 - 319ms/epoch - 27ms/step\n",
            "Epoch 91/100\n",
            "12/12 - 0s - loss: 1.5266e-04 - val_loss: 3.2469e-04 - 314ms/epoch - 26ms/step\n",
            "Epoch 92/100\n",
            "12/12 - 0s - loss: 1.5958e-04 - val_loss: 4.1239e-04 - 294ms/epoch - 25ms/step\n",
            "Epoch 93/100\n",
            "12/12 - 0s - loss: 1.5890e-04 - val_loss: 3.2037e-04 - 294ms/epoch - 25ms/step\n",
            "Epoch 94/100\n",
            "12/12 - 0s - loss: 1.5940e-04 - val_loss: 3.8670e-04 - 329ms/epoch - 27ms/step\n",
            "Epoch 95/100\n",
            "12/12 - 0s - loss: 1.4923e-04 - val_loss: 3.7048e-04 - 294ms/epoch - 25ms/step\n",
            "Epoch 96/100\n",
            "12/12 - 0s - loss: 1.5436e-04 - val_loss: 3.2482e-04 - 318ms/epoch - 27ms/step\n",
            "Epoch 97/100\n",
            "12/12 - 1s - loss: 1.6318e-04 - val_loss: 3.2817e-04 - 544ms/epoch - 45ms/step\n",
            "Epoch 98/100\n",
            "12/12 - 1s - loss: 1.7591e-04 - val_loss: 3.8292e-04 - 578ms/epoch - 48ms/step\n",
            "Epoch 99/100\n",
            "12/12 - 1s - loss: 1.6027e-04 - val_loss: 3.3649e-04 - 509ms/epoch - 42ms/step\n",
            "Epoch 100/100\n",
            "12/12 - 0s - loss: 1.4580e-04 - val_loss: 3.2120e-04 - 484ms/epoch - 40ms/step\n"
          ]
        },
        {
          "output_type": "execute_result",
          "data": {
            "text/plain": [
              "<keras.src.callbacks.History at 0x7bc5cd047c40>"
            ]
          },
          "metadata": {},
          "execution_count": 26
        }
      ]
    },
    {
      "cell_type": "code",
      "source": [
        "trainPredict = model.predict(trainX)\n",
        "testPredict = model.predict(testX)\n",
        "print(trainPredict)\n",
        "print(testPredict)"
      ],
      "metadata": {
        "colab": {
          "base_uri": "https://localhost:8080/"
        },
        "id": "4HYeTmw5n88W",
        "outputId": "e7dbe000-5768-4c2a-a95f-279d834bc26b"
      },
      "execution_count": null,
      "outputs": [
        {
          "output_type": "stream",
          "name": "stdout",
          "text": [
            "35/35 [==============================] - 0s 12ms/step\n",
            "18/18 [==============================] - 0s 11ms/step\n",
            "[[0.01583347 0.01798651 0.0197567  0.01756673]\n",
            " [0.01869004 0.02082746 0.02253278 0.02040694]\n",
            " [0.02062028 0.02274899 0.02441763 0.02231326]\n",
            " ...\n",
            " [0.7435602  0.74001855 0.73649836 0.7340113 ]\n",
            " [0.7422288  0.73867065 0.7350759  0.73251987]\n",
            " [0.73577887 0.7322996  0.72873527 0.7262081 ]]\n",
            "[[0.7214485  0.71816736 0.71477    0.7123558 ]\n",
            " [0.7309987  0.7276111  0.7241084  0.7216325 ]\n",
            " [0.7274119  0.7240082  0.7204206  0.7178759 ]\n",
            " ...\n",
            " [1.0238503  1.0169501  1.0121408  1.0079917 ]\n",
            " [1.037953   1.0308577  1.0259304  1.0216416 ]\n",
            " [1.027479   1.020296   1.0153127  1.0111259 ]]\n"
          ]
        }
      ]
    },
    {
      "cell_type": "code",
      "source": [
        "# invert predictions\n",
        "trainPredict = scaler.inverse_transform(trainPredict)\n",
        "trainY = scaler.inverse_transform(trainY)\n",
        "testPredict = scaler.inverse_transform(testPredict)\n",
        "testY = scaler.inverse_transform(testY)\n",
        "print(trainPredict)\n",
        "print(trainY)\n",
        "print(testPredict)\n",
        "print(testY)"
      ],
      "metadata": {
        "id": "ayIjqMpxo2in"
      },
      "execution_count": null,
      "outputs": []
    },
    {
      "cell_type": "code",
      "source": [
        "# calculate root mean squared error\n",
        "trainScore = math.sqrt(mean_squared_error(trainY,trainPredict))\n",
        "print('Train Score: %.2f RMSE' % (trainScore))\n",
        "testScore = math.sqrt(mean_squared_error(testY, testPredict))\n",
        "print('Test Score: %.2f RMSE' % (testScore))"
      ],
      "metadata": {
        "colab": {
          "base_uri": "https://localhost:8080/"
        },
        "id": "2MHerWO4qYml",
        "outputId": "e8a4bee8-37ac-4e8d-d304-09e7f450f1d0"
      },
      "execution_count": null,
      "outputs": [
        {
          "output_type": "stream",
          "name": "stdout",
          "text": [
            "Train Score: 1671285530098.67 RMSE\n",
            "Test Score: 2443952089556.23 RMSE\n"
          ]
        }
      ]
    },
    {
      "cell_type": "code",
      "source": [
        "# shift train predictions for plotting\n",
        "trainPredictPlot = np.empty_like(dataset)\n",
        "trainPredictPlot[:, :] = np.nan\n",
        "trainPredictPlot[look_back:len(trainPredict)+look_back, :] =trainPredict"
      ],
      "metadata": {
        "id": "oCzL5S82qmss"
      },
      "execution_count": null,
      "outputs": []
    },
    {
      "cell_type": "code",
      "source": [
        "# shift test predictions for plotting\n",
        "testPredictPlot = np.empty_like(dataset)\n",
        "testPredictPlot[:, :] = np.nan\n",
        "testPredictPlot[len(trainPredict)+(look_back*2):len(dataset),:] = testPredict"
      ],
      "metadata": {
        "id": "ZjhAWbgmtau8"
      },
      "execution_count": null,
      "outputs": []
    },
    {
      "cell_type": "code",
      "source": [
        "# plot baseline and predictions\n",
        "#plt.plot(scaler.inverse_transform(dataset))\n",
        "plt.plot(trainPredictPlot)\n",
        "plt.plot(testPredictPlot)\n",
        "plt.show()"
      ],
      "metadata": {
        "colab": {
          "base_uri": "https://localhost:8080/",
          "height": 445
        },
        "id": "7fJRDNxQtf9U",
        "outputId": "310c3589-c41c-4eb3-b614-0fdc50db8113"
      },
      "execution_count": null,
      "outputs": [
        {
          "output_type": "display_data",
          "data": {
            "text/plain": [
              "<Figure size 640x480 with 1 Axes>"
            ],
            "image/png": "[encoded data removed]"
          },
          "metadata": {}
        }
      ]
    },
    {
      "cell_type": "code",
      "source": [],
      "metadata": {
        "id": "eJ_DYm3stij7"
      },
      "execution_count": null,
      "outputs": []
    }
  ]
}