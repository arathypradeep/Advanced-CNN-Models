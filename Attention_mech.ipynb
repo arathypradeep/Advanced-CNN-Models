{
  "nbformat": 4,
  "nbformat_minor": 0,
  "metadata": {
    "colab": {
      "provenance": []
    },
    "kernelspec": {
      "name": "python3",
      "display_name": "Python 3"
    },
    "language_info": {
      "name": "python"
    }
  },
  "cells": [
    {
      "cell_type": "code",
      "source": [
        "import pandas as pd\n",
        "import matplotlib.pyplot as plt\n",
        "import numpy as np\n",
        "import math\n",
        "from sklearn.preprocessing import MinMaxScaler\n",
        "from sklearn.metrics import mean_squared_error\n",
        "from tensorflow.keras.models import Model\n",
        "from tensorflow.keras.layers import Input, LSTM, Dense,RepeatVector, Concatenate, Layer"
      ],
      "metadata": {
        "id": "hfVhZrR7Kpnh"
      },
      "execution_count": null,
      "outputs": []
    },
    {
      "cell_type": "code",
      "source": [
        "from google.colab import drive\n",
        "drive.mount('/content/drive')"
      ],
      "metadata": {
        "colab": {
          "base_uri": "https://localhost:8080/"
        },
        "id": "r1loZCGLKp2Q",
        "outputId": "1996a4f5-3990-47a3-bec4-eeb1fd394ab6"
      },
      "execution_count": null,
      "outputs": [
        {
          "output_type": "stream",
          "name": "stdout",
          "text": [
            "Mounted at /content/drive\n"
          ]
        }
      ]
    },
    {
      "cell_type": "code",
      "source": [
        "dataset = pd.read_csv('/content/drive/MyDrive/apple_share_price.csv',usecols=[1,2,3,4])\n",
        "dataset = dataset.reindex(index = dataset.index[::-1])\n",
        "print(dataset)"
      ],
      "metadata": {
        "colab": {
          "base_uri": "https://localhost:8080/"
        },
        "id": "1D2-Z7DJbJAp",
        "outputId": "9977f9ed-cc45-4a71-c513-b0e25c065fe8"
      },
      "execution_count": null,
      "outputs": [
        {
          "output_type": "stream",
          "name": "stdout",
          "text": [
            "        Open    High     Low   Close\n",
            "1663   46.52   47.18   46.41   47.08\n",
            "1662   47.49   47.50   46.88   47.33\n",
            "1661   47.08   47.76   47.07   47.71\n",
            "1660   47.82   47.89   47.56   47.68\n",
            "1659   47.71   48.05   47.41   48.02\n",
            "...      ...     ...     ...     ...\n",
            "4     157.06  158.92  156.67  158.81\n",
            "3     158.60  161.83  158.27  160.08\n",
            "2     159.26  161.27  159.11  161.06\n",
            "1     159.90  160.00  154.63  155.32\n",
            "0     156.60  158.57  156.07  157.48\n",
            "\n",
            "[1664 rows x 4 columns]\n"
          ]
        }
      ]
    },
    {
      "cell_type": "code",
      "source": [
        "dataset = dataset.astype('float32')\n",
        "\n",
        "# normalize the dataset\n",
        "scaler = MinMaxScaler(feature_range=(0, 1))\n",
        "dataset = scaler.fit_transform(dataset)"
      ],
      "metadata": {
        "id": "3MUBB_DjbJDh"
      },
      "execution_count": null,
      "outputs": []
    },
    {
      "cell_type": "code",
      "source": [
        "# split into train and test sets\n",
        "train_size = int(len(dataset) * 0.67)\n",
        "test_size = len(dataset) - train_size\n",
        "train, test = dataset[0:train_size,:],dataset[train_size:len(dataset),:]"
      ],
      "metadata": {
        "id": "wOOW0CN3bQrS"
      },
      "execution_count": null,
      "outputs": []
    },
    {
      "cell_type": "code",
      "source": [
        "# split a multivariate sequence into samples\n",
        "def create_dataset(sequences, n_steps):\n",
        "  X, y = list(), list()\n",
        "  for i in range(len(sequences)):\n",
        "    # find the end of this pattern\n",
        "    end_ix = i + n_steps\n",
        "    # check if we are beyond the dataset\n",
        "    if end_ix > len(sequences)-1:\n",
        "      break\n",
        "  # gather input and output parts of the pattern\n",
        "    seq_x, seq_y = sequences[i:end_ix, :], sequences[end_ix, :]\n",
        "    X.append(seq_x)\n",
        "    y.append(seq_y)\n",
        "  return np.array(X), np.array(y)"
      ],
      "metadata": {
        "id": "2pk5YMu8bQuK"
      },
      "execution_count": null,
      "outputs": []
    },
    {
      "cell_type": "code",
      "source": [
        "# reshape into X=t and Y=t+1\n",
        "look_back = 2\n",
        "trainX, trainY = create_dataset(train, look_back)\n",
        "testX, testY = create_dataset(test, look_back)\n",
        "print(trainX.shape)"
      ],
      "metadata": {
        "colab": {
          "base_uri": "https://localhost:8080/"
        },
        "id": "wprd8BaEbQxC",
        "outputId": "ea8ef155-8734-452e-e4b8-98e88db8a5eb"
      },
      "execution_count": null,
      "outputs": [
        {
          "output_type": "stream",
          "name": "stdout",
          "text": [
            "(1112, 2, 4)\n"
          ]
        }
      ]
    },
    {
      "cell_type": "code",
      "source": [
        "#properly intialize all the parameters\n",
        "class BahdanauAttention(Layer):# parent class\n",
        "  def __init__(self, units):\n",
        "    super(BahdanauAttention, self).__init__()\n",
        "    self.W1 = Dense(units)#neural network of  encoder to extract the features in the keys\n",
        "    self.W2 = Dense(units)#neural network of  decoder \" queries\n",
        "    self.V = Dense(1)# attention score calculated\n",
        "  def call(self, values, query):\n",
        "    # values shape == (batch_size, max_len, hidden_size)# parellel aayitt process chyuum whatever the vallue of batch size, length of the statement denotes max length,\n",
        "    # query shape == (batch_size, hidden_size)\n",
        "    query_with_time_axis = tf.expand_dims(query, 1)# to equalize the dimentions of both query and values\n",
        "    # Calculate the attention scores\n",
        "    score = tf.nn.tanh(self.W1(values) + self.W2(query_with_time_axis))#allighnmet score calculated as dot product\n",
        "    attention_weights = tf.nn.softmax(self.V(score), axis=1)# weight that assighns to the inpu sequence for which each word how much significant is\n",
        "    # Calculate the context vector\n",
        "    context_vector = attention_weights * values#context vector\n",
        "    context_vector = tf.reduce_sum(context_vector, axis=1)# if the patch size is one then we can avoid this step\n",
        "    return context_vector, attention_weights"
      ],
      "metadata": {
        "id": "WIA54hhmKqBA"
      },
      "execution_count": null,
      "outputs": []
    },
    {
      "cell_type": "code",
      "source": [
        "def build_encoder_decoder_model(input_shape, lstm_units):\n",
        "# Encoder\n",
        "  encoder_inputs = Input(shape=input_shape)\n",
        "  encoder_lstm = LSTM(lstm_units, return_sequences=True, return_state=True)\n",
        "  encoder_outputs, state_h, state_c = encoder_lstm(encoder_inputs)\n",
        "# Attention layer\n",
        "  attention_layer = BahdanauAttention(lstm_units)\n",
        "  context_vector, attention_weights = attention_layer(encoder_outputs, state_h)\n",
        "# Decoder\n",
        "  decoder_lstm = LSTM(lstm_units, return_sequences=False, return_state=False)\n",
        "  decoder_outputs = decoder_lstm(tf.expand_dims(context_vector, 1),initial_state=[state_h, state_c])\n",
        "  decoder_dense = Dense(4) # Predicting all four features\n",
        "  final_output = decoder_dense(decoder_outputs)\n",
        "  model = Model(inputs=encoder_inputs, outputs=final_output)\n",
        "  return model"
      ],
      "metadata": {
        "id": "REymKQT_bHsj"
      },
      "execution_count": null,
      "outputs": []
    },
    {
      "cell_type": "code",
      "source": [
        "import tensorflow as tf\n",
        "sequence_length = 2\n",
        "model =build_encoder_decoder_model(input_shape=(sequence_length, 4),lstm_units=50) # 4 features: Open, High, Low, Close\n",
        "model.compile(optimizer='adam', loss='mean_squared_error')"
      ],
      "metadata": {
        "id": "-AZbMCu5cvnY"
      },
      "execution_count": null,
      "outputs": []
    },
    {
      "cell_type": "code",
      "source": [
        "model.fit(trainX, trainY, epochs=30, batch_size=16,\n",
        "validation_split=0.2)\n",
        "\n",
        "# Make predictions\n",
        "predicted = model.predict(trainX)\n",
        "\n",
        "trainPredict = scaler.inverse_transform(predicted)\n",
        "trainY = scaler.inverse_transform(trainY)\n",
        "print(trainPredict)"
      ],
      "metadata": {
        "colab": {
          "base_uri": "https://localhost:8080/"
        },
        "id": "VsaoXTgKc5t6",
        "outputId": "6188bf9b-c263-4a04-828a-ff3acc1a19ee"
      },
      "execution_count": null,
      "outputs": [
        {
          "output_type": "stream",
          "name": "stdout",
          "text": [
            "Epoch 1/30\n",
            "56/56 [==============================] - 7s 24ms/step - loss: 0.0181 - val_loss: 0.0161\n",
            "Epoch 2/30\n",
            "56/56 [==============================] - 0s 6ms/step - loss: 0.0011 - val_loss: 0.0024\n",
            "Epoch 3/30\n",
            "56/56 [==============================] - 0s 7ms/step - loss: 2.6158e-04 - val_loss: 0.0055\n",
            "Epoch 4/30\n",
            "56/56 [==============================] - 0s 8ms/step - loss: 2.2032e-04 - val_loss: 0.0033\n",
            "Epoch 5/30\n",
            "56/56 [==============================] - 0s 7ms/step - loss: 2.0819e-04 - val_loss: 0.0040\n",
            "Epoch 6/30\n",
            "56/56 [==============================] - 0s 6ms/step - loss: 1.8819e-04 - val_loss: 0.0011\n",
            "Epoch 7/30\n",
            "56/56 [==============================] - 0s 6ms/step - loss: 1.7021e-04 - val_loss: 0.0011\n",
            "Epoch 8/30\n",
            "56/56 [==============================] - 0s 6ms/step - loss: 1.6262e-04 - val_loss: 6.6339e-04\n",
            "Epoch 9/30\n",
            "56/56 [==============================] - 0s 6ms/step - loss: 1.5410e-04 - val_loss: 2.3793e-04\n",
            "Epoch 10/30\n",
            "56/56 [==============================] - 0s 7ms/step - loss: 1.5096e-04 - val_loss: 2.8805e-04\n",
            "Epoch 11/30\n",
            "56/56 [==============================] - 0s 7ms/step - loss: 1.4531e-04 - val_loss: 5.2412e-04\n",
            "Epoch 12/30\n",
            "56/56 [==============================] - 0s 6ms/step - loss: 1.4899e-04 - val_loss: 2.7441e-04\n",
            "Epoch 13/30\n",
            "56/56 [==============================] - 0s 6ms/step - loss: 1.4244e-04 - val_loss: 4.9528e-04\n",
            "Epoch 14/30\n",
            "56/56 [==============================] - 0s 6ms/step - loss: 1.4309e-04 - val_loss: 5.0719e-04\n",
            "Epoch 15/30\n",
            "56/56 [==============================] - 0s 7ms/step - loss: 1.4486e-04 - val_loss: 2.9647e-04\n",
            "Epoch 16/30\n",
            "56/56 [==============================] - 0s 6ms/step - loss: 1.4170e-04 - val_loss: 5.8047e-04\n",
            "Epoch 17/30\n",
            "56/56 [==============================] - 0s 7ms/step - loss: 1.4309e-04 - val_loss: 2.9836e-04\n",
            "Epoch 18/30\n",
            "56/56 [==============================] - 0s 7ms/step - loss: 1.4736e-04 - val_loss: 5.4643e-04\n",
            "Epoch 19/30\n",
            "56/56 [==============================] - 0s 7ms/step - loss: 1.4666e-04 - val_loss: 7.3966e-04\n",
            "Epoch 20/30\n",
            "56/56 [==============================] - 1s 9ms/step - loss: 1.4299e-04 - val_loss: 3.2496e-04\n",
            "Epoch 21/30\n",
            "56/56 [==============================] - 0s 9ms/step - loss: 1.3794e-04 - val_loss: 4.8673e-04\n",
            "Epoch 22/30\n",
            "56/56 [==============================] - 1s 9ms/step - loss: 1.3868e-04 - val_loss: 9.1435e-04\n",
            "Epoch 23/30\n",
            "56/56 [==============================] - 1s 9ms/step - loss: 1.5129e-04 - val_loss: 8.4370e-04\n",
            "Epoch 24/30\n",
            "56/56 [==============================] - 1s 10ms/step - loss: 1.3913e-04 - val_loss: 3.2021e-04\n",
            "Epoch 25/30\n",
            "56/56 [==============================] - 1s 10ms/step - loss: 1.4570e-04 - val_loss: 2.6893e-04\n",
            "Epoch 26/30\n",
            "56/56 [==============================] - 1s 10ms/step - loss: 1.4759e-04 - val_loss: 3.0524e-04\n",
            "Epoch 27/30\n",
            "56/56 [==============================] - 1s 9ms/step - loss: 1.3814e-04 - val_loss: 0.0011\n",
            "Epoch 28/30\n",
            "56/56 [==============================] - 1s 10ms/step - loss: 1.4404e-04 - val_loss: 5.2454e-04\n",
            "Epoch 29/30\n",
            "56/56 [==============================] - 0s 6ms/step - loss: 1.4143e-04 - val_loss: 6.5324e-04\n",
            "Epoch 30/30\n",
            "56/56 [==============================] - 0s 7ms/step - loss: 1.3616e-04 - val_loss: 6.2003e-04\n",
            "35/35 [==============================] - 1s 2ms/step\n",
            "[[ 47.258587  47.77241   46.737137  47.228146]\n",
            " [ 47.56631   48.062748  47.027996  47.53152 ]\n",
            " [ 47.77433   48.286575  47.258293  47.745213]\n",
            " ...\n",
            " [127.06118  127.1871   126.000244 125.67535 ]\n",
            " [126.900055 127.00718  125.82764  125.5125  ]\n",
            " [126.312744 126.444374 125.24668  124.94879 ]]\n"
          ]
        }
      ]
    },
    {
      "cell_type": "code",
      "source": [
        "trainScore =math.sqrt(mean_squared_error(trainY,trainPredict))\n",
        "print('Train Score: %.2f RMSE' % (trainScore))\n",
        "\n",
        "testPredict = model.predict(testX)\n",
        "\n",
        "testPredict = scaler.inverse_transform(testPredict)\n",
        "testY = scaler.inverse_transform(testY)"
      ],
      "metadata": {
        "colab": {
          "base_uri": "https://localhost:8080/"
        },
        "id": "qxurbrp4c5xC",
        "outputId": "a8e883b6-f2a3-4707-9201-529eab5277b5"
      },
      "execution_count": null,
      "outputs": [
        {
          "output_type": "stream",
          "name": "stdout",
          "text": [
            "Train Score: 1.75 RMSE\n",
            "18/18 [==============================] - 0s 2ms/step\n"
          ]
        }
      ]
    },
    {
      "cell_type": "code",
      "source": [
        "testScore = math.sqrt(mean_squared_error(testY,testPredict))\n",
        "print('Test Score: %.2f RMSE' % (testScore))\n",
        "\n",
        "# shift train predictions for plotting\n",
        "trainPredictPlot = np.empty_like(dataset)\n",
        "trainPredictPlot[:, :] = np.nan\n",
        "trainPredictPlot[look_back:len(trainPredict)+look_back, :] =trainPredict"
      ],
      "metadata": {
        "colab": {
          "base_uri": "https://localhost:8080/"
        },
        "id": "Di2OC6J2c5zq",
        "outputId": "568a3d2f-5312-4a41-9bdd-59bf149aa879"
      },
      "execution_count": null,
      "outputs": [
        {
          "output_type": "stream",
          "name": "stdout",
          "text": [
            "Test Score: 4.22 RMSE\n"
          ]
        }
      ]
    },
    {
      "cell_type": "code",
      "source": [
        "# shift test predictions for plotting\n",
        "testPredictPlot = np.empty_like(dataset)\n",
        "testPredictPlot[:, :] = np.nan\n",
        "testPredictPlot[len(trainPredict)+(look_back*2):len(dataset),:] = testPredict\n",
        "\n",
        "# plot baseline and predictions\n",
        "plt.plot(scaler.inverse_transform(dataset))\n",
        "plt.plot(trainPredictPlot)\n",
        "plt.plot(testPredictPlot)\n",
        "plt.show()"
      ],
      "metadata": {
        "colab": {
          "base_uri": "https://localhost:8080/",
          "height": 430
        },
        "id": "7DxiRoPbc52L",
        "outputId": "510a812e-fe66-446e-dafd-d3ea1575cdcf"
      },
      "execution_count": null,
      "outputs": [
        {
          "output_type": "display_data",
          "data": {
            "text/plain": [
              "<Figure size 640x480 with 1 Axes>"
            ],
            "image/png": "[encoded data removed]"
          },
          "metadata": {}
        }
      ]
    }
  ]
}